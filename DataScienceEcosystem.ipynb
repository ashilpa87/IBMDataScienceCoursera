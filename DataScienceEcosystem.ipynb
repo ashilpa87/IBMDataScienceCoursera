{
 "cells": [
  {
   "cell_type": "markdown",
   "id": "fd77659a-dcd0-4b73-8b8e-9b5d3512e052",
   "metadata": {},
   "source": [
    "# Data Science Tools and Ecosystem"
   ]
  },
  {
   "cell_type": "markdown",
   "id": "39e57b19-a12b-4d2a-af9c-c4fe2f25c27b",
   "metadata": {},
   "source": [
    "In this notebook, Data Science Tools and Ecosystem are summarized."
   ]
  },
  {
   "cell_type": "markdown",
   "id": "930a2836-8b8e-4928-b160-6169b79559c3",
   "metadata": {},
   "source": [
    "Some of the popular languages that Data Scientists use are:\n",
    "1. Python\n",
    "2. SAS\n",
    "3. R"
   ]
  },
  {
   "cell_type": "markdown",
   "id": "a79b574b-eba8-4808-8a4b-2e85166876f2",
   "metadata": {},
   "source": [
    "Some of the commonly used libraries used by Data Scientists include:\n",
    "1. sklearn(python)\n",
    "2. tensorflow\n",
    "3. keras\n",
    "4. caret"
   ]
  },
  {
   "cell_type": "markdown",
   "id": "8c7a349c-f925-4bd7-a250-16d88b5961f1",
   "metadata": {},
   "source": [
    "Some of the commonly used tools used by Data Scientists include:\n",
    "1. RStudio\n",
    "2. JupyterLab\n",
    "3. Spyder"
   ]
  },
  {
   "cell_type": "markdown",
   "id": "fced65de-f4f7-4cda-8723-cfb06c405921",
   "metadata": {},
   "source": [
    "Below are a few examples of evaluating arithmetic expressions in Python.\n",
    "\n",
    "1. y = mx +c\n",
    "2. (3 + 2) × 4\n",
    "3. x^2 + 3x - 4\n",
    "4. 2x + 5\n",
    "5. 2 + 4 -10"
   ]
  },
  {
   "cell_type": "code",
   "execution_count": null,
   "id": "a090f5bb-6868-4285-8df3-c226719ef8b1",
   "metadata": {},
   "outputs": [],
   "source": [
    "(3*4)+5"
   ]
  },
  {
   "cell_type": "code",
   "execution_count": null,
   "id": "2f224a15-eecd-40c9-8a52-57586f3eb402",
   "metadata": {},
   "outputs": [],
   "source": [
    "minutes = 200\n",
    "hours = minutes * 60\n",
    "hours"
   ]
  },
  {
   "cell_type": "markdown",
   "id": "d61b265e-b7f3-49da-bd05-060a2be623f2",
   "metadata": {},
   "source": [
    "Some of the popular languages that Data Scientists use are:\n",
    "* Python : Is an open-source language and very popular among the data scientists.\n",
    "* R : Is a free language for statistical computing and graphics. "
   ]
  },
  {
   "cell_type": "markdown",
   "id": "30000200-86ce-45ef-a6ed-769fe2a018ca",
   "metadata": {},
   "source": [
    "## Authors Name\n",
    "Shilpa Chaturvedi\n",
    "Author"
   ]
  }
 ],
 "metadata": {
  "kernelspec": {
   "display_name": "Python [conda env:base] *",
   "language": "python",
   "name": "conda-base-py"
  },
  "language_info": {
   "codemirror_mode": {
    "name": "ipython",
    "version": 3
   },
   "file_extension": ".py",
   "mimetype": "text/x-python",
   "name": "python",
   "nbconvert_exporter": "python",
   "pygments_lexer": "ipython3",
   "version": "3.12.7"
  }
 },
 "nbformat": 4,
 "nbformat_minor": 5
}
